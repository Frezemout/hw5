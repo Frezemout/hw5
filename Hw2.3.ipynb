{
 "cells": [
  {
   "cell_type": "markdown",
   "id": "02183d34",
   "metadata": {},
   "source": [
    "# Hw2.3.ipynb"
   ]
  },
  {
   "cell_type": "code",
   "execution_count": 3,
   "id": "ca2c4d1d",
   "metadata": {},
   "outputs": [
    {
     "name": "stdout",
     "output_type": "stream",
     "text": [
      "                                                Name  \\\n",
      "0                      10-Day Green Smoothie Cleanse   \n",
      "1                                  11/22/63: A Novel   \n",
      "2            12 Rules for Life: An Antidote to Chaos   \n",
      "3                             1984 (Signet Classics)   \n",
      "4  5,000 Awesome Facts (About Everything!) (Natio...   \n",
      "\n",
      "                     Author  User Rating  Reviews  Price  Year        Genre  \n",
      "0                  JJ Smith          4.7    17350      8  2016  Non Fiction  \n",
      "1              Stephen King          4.6     2052     22  2011      Fiction  \n",
      "2        Jordan B. Peterson          4.7    18979     15  2018  Non Fiction  \n",
      "3             George Orwell          4.7    21424      6  2017      Fiction  \n",
      "4  National Geographic Kids          4.8     7665     12  2019  Non Fiction  \n",
      "Shape: (550, 7)\n",
      "Унікальні жанри: ['Non Fiction' 'Fiction']\n"
     ]
    },
    {
     "data": {
      "image/png": "[encoded data removed]",
      "text/plain": [
       "<Figure size 640x480 with 1 Axes>"
      ]
     },
     "metadata": {},
     "output_type": "display_data"
    },
    {
     "name": "stdout",
     "output_type": "stream",
     "text": [
      "Книга з найбільшою кількістю відгуків: Where the Crawdads Sing\n",
      "Статистика цін за жанрами:\n",
      "             min  max       mean\n",
      "Genre                           \n",
      "Fiction        0   82  10.850000\n",
      "Non Fiction    0  105  14.841935\n"
     ]
    }
   ],
   "source": [
    "\n",
    "# Завдання 3: Аналіз топ-50 книг із Kaggle\n",
    "\n",
    "import pandas as pd\n",
    "import matplotlib.pyplot as plt\n",
    "\n",
    "# 1. Завантаження даних\n",
    "books_file = \"bestsellers_with_categories.csv\"\n",
    "books_df = pd.read_csv(books_file)\n",
    "\n",
    "# 2. Попередній огляд даних\n",
    "print(books_df.head())\n",
    "\n",
    "# 3. Розмір таблиці\n",
    "print(\"Shape:\", books_df.shape)\n",
    "\n",
    "# 4. Унікальні жанри\n",
    "print(\"Унікальні жанри:\", books_df['Genre'].unique())\n",
    "\n",
    "# 5. Гістограма розподілу цін\n",
    "books_df['Price'].plot(kind='hist', title='Розподіл цін')\n",
    "plt.xlabel('Ціна')\n",
    "plt.show()\n",
    "\n",
    "# 6. Найпопулярніша книга за відгуками\n",
    "top_reviews = books_df.iloc[books_df['Reviews'].idxmax()]\n",
    "print(\"Книга з найбільшою кількістю відгуків:\", top_reviews['Name'])\n",
    "\n",
    "# 7. Агрегування за жанрами\n",
    "genre_stats = books_df.groupby('Genre')['Price'].agg(['min', 'max', 'mean'])\n",
    "print(\"Статистика цін за жанрами:\")\n",
    "print(genre_stats)\n"
   ]
  },
  {
   "cell_type": "code",
   "execution_count": null,
   "id": "5dea9718-269e-4cd7-8963-76998b1d7733",
   "metadata": {},
   "outputs": [],
   "source": []
  }
 ],
 "metadata": {
  "kernelspec": {
   "display_name": "Python 3 (ipykernel)",
   "language": "python",
   "name": "python3"
  },
  "language_info": {
   "codemirror_mode": {
    "name": "ipython",
    "version": 3
   },
   "file_extension": ".py",
   "mimetype": "text/x-python",
   "name": "python",
   "nbconvert_exporter": "python",
   "pygments_lexer": "ipython3",
   "version": "3.12.3"
  }
 },
 "nbformat": 4,
 "nbformat_minor": 5
}
